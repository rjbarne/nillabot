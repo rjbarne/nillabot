{
 "cells": [
  {
   "cell_type": "code",
   "execution_count": 1,
   "id": "d64a4285",
   "metadata": {},
   "outputs": [],
   "source": [
    "import locale\n",
    "import sqlite3\n",
    "import os\n",
    "import random\n",
    "import math\n",
    "from shlex import quote\n",
    "import pandas as pd\n",
    "from re import compile as re_compile\n",
    "from PIL import Image # need this for image merge\n",
    "import urllib.request # need this for image merge\n",
    "\n",
    "connection = sqlite3.connect('ia.db')\n",
    "cursor = connection.cursor()"
   ]
  },
  {
   "cell_type": "code",
   "execution_count": 2,
   "id": "85da81a4",
   "metadata": {},
   "outputs": [
    {
     "data": {
      "text/plain": [
       "<sqlite3.Cursor at 0x1fec3bb1260>"
      ]
     },
     "execution_count": 2,
     "metadata": {},
     "output_type": "execute_result"
    }
   ],
   "source": [
    "cursor.execute(\"DELETE FROM mr_angel WHERE cid = 2053;\")\n",
    "cursor.execute(\"DELETE FROM mr_angel WHERE cid = 2051;\")\n",
    "cursor.execute(\"DELETE FROM mr_angel WHERE cid = 2050;\")"
   ]
  },
  {
   "cell_type": "code",
   "execution_count": 3,
   "id": "86a4b553",
   "metadata": {},
   "outputs": [],
   "source": [
    "connection.commit()"
   ]
  },
  {
   "cell_type": "code",
   "execution_count": 4,
   "id": "f1cbe7e4",
   "metadata": {},
   "outputs": [],
   "source": [
    "connection.close()"
   ]
  },
  {
   "cell_type": "code",
   "execution_count": null,
   "id": "d2e55878",
   "metadata": {},
   "outputs": [],
   "source": []
  }
 ],
 "metadata": {
  "kernelspec": {
   "display_name": "Python 3 (ipykernel)",
   "language": "python",
   "name": "python3"
  },
  "language_info": {
   "codemirror_mode": {
    "name": "ipython",
    "version": 3
   },
   "file_extension": ".py",
   "mimetype": "text/x-python",
   "name": "python",
   "nbconvert_exporter": "python",
   "pygments_lexer": "ipython3",
   "version": "3.8.18"
  }
 },
 "nbformat": 4,
 "nbformat_minor": 5
}
